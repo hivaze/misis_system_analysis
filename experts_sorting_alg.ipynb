{
  "cells": [
    {
      "cell_type": "code",
      "execution_count": null,
      "outputs": [],
      "source": [
        "import numpy as np\n",
        "import pandas as pd"
      ],
      "metadata": {
        "id": "9h4rtebuAoyz"
      }
    },
    {
      "cell_type": "code",
      "execution_count": null,
      "outputs": [],
      "source": [
        "experts = [[\"e23\"], [\"e54\", \"e94\"], [\"e2\"], [\"e4\"], [\"e5\", \"e9\", \"e136\"], [\"e12\", \"e954\"], [\"e34\"]]"
      ],
      "metadata": {
        "id": "kKqK6pSkAoy2"
      }
    },
    {
      "cell_type": "code",
      "execution_count": null,
      "outputs": [
        {
          "data": {
            "text/plain": "{0: ['e23'],\n 1: ['e54', 'e94'],\n 2: ['e2'],\n 3: ['e4'],\n 4: ['e5', 'e9', 'e136'],\n 5: ['e12', 'e954'],\n 6: ['e34']}"
          },
          "execution_count": 119,
          "metadata": {},
          "output_type": "execute_result"
        }
      ],
      "source": [
        "groups_ranks = dict(enumerate(experts))\n",
        "groups_ranks"
      ],
      "metadata": {
        "id": "qiBGK3OcAoy3",
        "outputId": "72528498-e47c-4ead-ddc0-e3ba667f4afd"
      }
    },
    {
      "cell_type": "code",
      "execution_count": null,
      "outputs": [
        {
          "data": {
            "text/plain": "['e23', 'e54', 'e94', 'e2', 'e4', 'e5', 'e9', 'e136', 'e12', 'e954', 'e34']"
          },
          "execution_count": 120,
          "metadata": {},
          "output_type": "execute_result"
        }
      ],
      "source": [
        "objects = [item for sublist in experts for item in sublist]\n",
        "objects"
      ],
      "metadata": {
        "id": "Q-HWhH7pAoy4",
        "outputId": "4c200db9-0aeb-4ebe-aaff-611db7e132f1"
      }
    },
    {
      "cell_type": "code",
      "execution_count": null,
      "outputs": [
        {
          "data": {
            "text/plain": "{'e23': 0,\n 'e54': 1,\n 'e94': 2,\n 'e2': 3,\n 'e4': 4,\n 'e5': 5,\n 'e9': 6,\n 'e136': 7,\n 'e12': 8,\n 'e954': 9,\n 'e34': 10}"
          },
          "execution_count": 121,
          "metadata": {},
          "output_type": "execute_result"
        }
      ],
      "source": [
        "object_to_id = {v: k for k, v in dict(enumerate(objects)).items()}\n",
        "object_to_id"
      ],
      "metadata": {
        "id": "Ty2vReoIAoy4",
        "outputId": "7985e984-c6c4-4873-95ce-7eb6498b34e5"
      }
    },
    {
      "cell_type": "code",
      "execution_count": null,
      "outputs": [
        {
          "data": {
            "text/plain": "      e23  e54  e94   e2   e4   e5   e9  e136  e12  e954  e34\ne23   1.0  1.0  1.0  1.0  1.0  1.0  1.0   1.0  1.0   1.0  1.0\ne54   0.0  1.0  1.0  1.0  1.0  1.0  1.0   1.0  1.0   1.0  1.0\ne94   0.0  1.0  1.0  1.0  1.0  1.0  1.0   1.0  1.0   1.0  1.0\ne2    0.0  0.0  0.0  1.0  1.0  1.0  1.0   1.0  1.0   1.0  1.0\ne4    0.0  0.0  0.0  0.0  1.0  1.0  1.0   1.0  1.0   1.0  1.0\ne5    0.0  0.0  0.0  0.0  0.0  1.0  1.0   1.0  1.0   1.0  1.0\ne9    0.0  0.0  0.0  0.0  0.0  1.0  1.0   1.0  1.0   1.0  1.0\ne136  0.0  0.0  0.0  0.0  0.0  1.0  1.0   1.0  1.0   1.0  1.0\ne12   0.0  0.0  0.0  0.0  0.0  0.0  0.0   0.0  1.0   1.0  1.0\ne954  0.0  0.0  0.0  0.0  0.0  0.0  0.0   0.0  1.0   1.0  1.0\ne34   0.0  0.0  0.0  0.0  0.0  0.0  0.0   0.0  0.0   0.0  1.0",
            "text/html": "<div>\n<style scoped>\n    .dataframe tbody tr th:only-of-type {\n        vertical-align: middle;\n    }\n\n    .dataframe tbody tr th {\n        vertical-align: top;\n    }\n\n    .dataframe thead th {\n        text-align: right;\n    }\n</style>\n<table border=\"1\" class=\"dataframe\">\n  <thead>\n    <tr style=\"text-align: right;\">\n      <th></th>\n      <th>e23</th>\n      <th>e54</th>\n      <th>e94</th>\n      <th>e2</th>\n      <th>e4</th>\n      <th>e5</th>\n      <th>e9</th>\n      <th>e136</th>\n      <th>e12</th>\n      <th>e954</th>\n      <th>e34</th>\n    </tr>\n  </thead>\n  <tbody>\n    <tr>\n      <th>e23</th>\n      <td>1.0</td>\n      <td>1.0</td>\n      <td>1.0</td>\n      <td>1.0</td>\n      <td>1.0</td>\n      <td>1.0</td>\n      <td>1.0</td>\n      <td>1.0</td>\n      <td>1.0</td>\n      <td>1.0</td>\n      <td>1.0</td>\n    </tr>\n    <tr>\n      <th>e54</th>\n      <td>0.0</td>\n      <td>1.0</td>\n      <td>1.0</td>\n      <td>1.0</td>\n      <td>1.0</td>\n      <td>1.0</td>\n      <td>1.0</td>\n      <td>1.0</td>\n      <td>1.0</td>\n      <td>1.0</td>\n      <td>1.0</td>\n    </tr>\n    <tr>\n      <th>e94</th>\n      <td>0.0</td>\n      <td>1.0</td>\n      <td>1.0</td>\n      <td>1.0</td>\n      <td>1.0</td>\n      <td>1.0</td>\n      <td>1.0</td>\n      <td>1.0</td>\n      <td>1.0</td>\n      <td>1.0</td>\n      <td>1.0</td>\n    </tr>\n    <tr>\n      <th>e2</th>\n      <td>0.0</td>\n      <td>0.0</td>\n      <td>0.0</td>\n      <td>1.0</td>\n      <td>1.0</td>\n      <td>1.0</td>\n      <td>1.0</td>\n      <td>1.0</td>\n      <td>1.0</td>\n      <td>1.0</td>\n      <td>1.0</td>\n    </tr>\n    <tr>\n      <th>e4</th>\n      <td>0.0</td>\n      <td>0.0</td>\n      <td>0.0</td>\n      <td>0.0</td>\n      <td>1.0</td>\n      <td>1.0</td>\n      <td>1.0</td>\n      <td>1.0</td>\n      <td>1.0</td>\n      <td>1.0</td>\n      <td>1.0</td>\n    </tr>\n    <tr>\n      <th>e5</th>\n      <td>0.0</td>\n      <td>0.0</td>\n      <td>0.0</td>\n      <td>0.0</td>\n      <td>0.0</td>\n      <td>1.0</td>\n      <td>1.0</td>\n      <td>1.0</td>\n      <td>1.0</td>\n      <td>1.0</td>\n      <td>1.0</td>\n    </tr>\n    <tr>\n      <th>e9</th>\n      <td>0.0</td>\n      <td>0.0</td>\n      <td>0.0</td>\n      <td>0.0</td>\n      <td>0.0</td>\n      <td>1.0</td>\n      <td>1.0</td>\n      <td>1.0</td>\n      <td>1.0</td>\n      <td>1.0</td>\n      <td>1.0</td>\n    </tr>\n    <tr>\n      <th>e136</th>\n      <td>0.0</td>\n      <td>0.0</td>\n      <td>0.0</td>\n      <td>0.0</td>\n      <td>0.0</td>\n      <td>1.0</td>\n      <td>1.0</td>\n      <td>1.0</td>\n      <td>1.0</td>\n      <td>1.0</td>\n      <td>1.0</td>\n    </tr>\n    <tr>\n      <th>e12</th>\n      <td>0.0</td>\n      <td>0.0</td>\n      <td>0.0</td>\n      <td>0.0</td>\n      <td>0.0</td>\n      <td>0.0</td>\n      <td>0.0</td>\n      <td>0.0</td>\n      <td>1.0</td>\n      <td>1.0</td>\n      <td>1.0</td>\n    </tr>\n    <tr>\n      <th>e954</th>\n      <td>0.0</td>\n      <td>0.0</td>\n      <td>0.0</td>\n      <td>0.0</td>\n      <td>0.0</td>\n      <td>0.0</td>\n      <td>0.0</td>\n      <td>0.0</td>\n      <td>1.0</td>\n      <td>1.0</td>\n      <td>1.0</td>\n    </tr>\n    <tr>\n      <th>e34</th>\n      <td>0.0</td>\n      <td>0.0</td>\n      <td>0.0</td>\n      <td>0.0</td>\n      <td>0.0</td>\n      <td>0.0</td>\n      <td>0.0</td>\n      <td>0.0</td>\n      <td>0.0</td>\n      <td>0.0</td>\n      <td>1.0</td>\n    </tr>\n  </tbody>\n</table>\n</div>"
          },
          "execution_count": 123,
          "metadata": {},
          "output_type": "execute_result"
        }
      ],
      "source": [
        "matrix = np.zeros((len(objects), len(objects)))\n",
        "prev_objects = []\n",
        "for rank, group in groups_ranks.items():\n",
        "    ids = [object_to_id[x] for x in group]\n",
        "    self_ids = np.array(list(zip(ids, ids)))\n",
        "    matrix[self_ids[:, :, None], ids] = 1\n",
        "    matrix[np.array(prev_objects, dtype=np.int8)[:, None], ids] = 1\n",
        "    prev_objects.extend(ids)\n",
        "\n",
        "result = pd.DataFrame(matrix, columns=object_to_id.keys(), index=object_to_id.keys())\n",
        "result"
      ],
      "metadata": {
        "id": "bZC5zWMkAoy5",
        "outputId": "2fb0a83e-a67e-4316-e054-14aa900f14b7"
      }
    },
    {
      "cell_type": "code",
      "execution_count": null,
      "outputs": [],
      "source": [],
      "metadata": {
        "id": "gmvtDqTHAoy6"
      }
    }
  ],
  "metadata": {
    "kernelspec": {
      "display_name": "Python 3",
      "language": "python",
      "name": "python3"
    },
    "language_info": {
      "codemirror_mode": {
        "name": "ipython",
        "version": 2
      },
      "file_extension": ".py",
      "mimetype": "text/x-python",
      "name": "python",
      "nbconvert_exporter": "python",
      "pygments_lexer": "ipython2",
      "version": "2.7.6"
    },
    "colab": {
      "provenance": []
    }
  },
  "nbformat": 4,
  "nbformat_minor": 0
}